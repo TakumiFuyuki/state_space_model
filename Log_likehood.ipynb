{
 "cells": [
  {
   "cell_type": "markdown",
   "metadata": {},
   "source": [
    "# データ整形\n",
    "df：  \n",
    "yt → 観測値  \n",
    "nan_flags → 欠損値なしは0、ありは1  \n",
    "その他、使用する変数を格納  "
   ]
  },
  {
   "cell_type": "markdown",
   "metadata": {},
   "source": [
    "## blsallfood.csvの読み込み"
   ]
  },
  {
   "cell_type": "code",
   "execution_count": 1,
   "metadata": {},
   "outputs": [],
   "source": [
    "import pandas as pd\n",
    "\n",
    "df = pd.read_csv(r\"C:\\asp\\state_space_model\\blsallfood.csv\")"
   ]
  },
  {
   "cell_type": "code",
   "execution_count": 2,
   "metadata": {},
   "outputs": [
    {
     "data": {
      "text/html": [
       "<div>\n",
       "<style scoped>\n",
       "    .dataframe tbody tr th:only-of-type {\n",
       "        vertical-align: middle;\n",
       "    }\n",
       "\n",
       "    .dataframe tbody tr th {\n",
       "        vertical-align: top;\n",
       "    }\n",
       "\n",
       "    .dataframe thead th {\n",
       "        text-align: right;\n",
       "    }\n",
       "</style>\n",
       "<table border=\"1\" class=\"dataframe\">\n",
       "  <thead>\n",
       "    <tr style=\"text-align: right;\">\n",
       "      <th></th>\n",
       "      <th>yt</th>\n",
       "    </tr>\n",
       "  </thead>\n",
       "  <tbody>\n",
       "    <tr>\n",
       "      <th>0</th>\n",
       "      <td>1720</td>\n",
       "    </tr>\n",
       "    <tr>\n",
       "      <th>1</th>\n",
       "      <td>1702</td>\n",
       "    </tr>\n",
       "    <tr>\n",
       "      <th>2</th>\n",
       "      <td>1707</td>\n",
       "    </tr>\n",
       "    <tr>\n",
       "      <th>3</th>\n",
       "      <td>1708</td>\n",
       "    </tr>\n",
       "    <tr>\n",
       "      <th>4</th>\n",
       "      <td>1727</td>\n",
       "    </tr>\n",
       "    <tr>\n",
       "      <th>...</th>\n",
       "      <td>...</td>\n",
       "    </tr>\n",
       "    <tr>\n",
       "      <th>151</th>\n",
       "      <td>1829</td>\n",
       "    </tr>\n",
       "    <tr>\n",
       "      <th>152</th>\n",
       "      <td>1835</td>\n",
       "    </tr>\n",
       "    <tr>\n",
       "      <th>153</th>\n",
       "      <td>1782</td>\n",
       "    </tr>\n",
       "    <tr>\n",
       "      <th>154</th>\n",
       "      <td>1736</td>\n",
       "    </tr>\n",
       "    <tr>\n",
       "      <th>155</th>\n",
       "      <td>1706</td>\n",
       "    </tr>\n",
       "  </tbody>\n",
       "</table>\n",
       "<p>156 rows × 1 columns</p>\n",
       "</div>"
      ],
      "text/plain": [
       "       yt\n",
       "0    1720\n",
       "1    1702\n",
       "2    1707\n",
       "3    1708\n",
       "4    1727\n",
       "..    ...\n",
       "151  1829\n",
       "152  1835\n",
       "153  1782\n",
       "154  1736\n",
       "155  1706\n",
       "\n",
       "[156 rows x 1 columns]"
      ]
     },
     "execution_count": 2,
     "metadata": {},
     "output_type": "execute_result"
    }
   ],
   "source": [
    "df"
   ]
  },
  {
   "cell_type": "code",
   "execution_count": 3,
   "metadata": {},
   "outputs": [
    {
     "name": "stdout",
     "output_type": "stream",
     "text": [
      "`yt` 列には欠損値は存在しません。\n"
     ]
    }
   ],
   "source": [
    "any_na = df['yt'].isna().any()\n",
    "if any_na:\n",
    "    print(\"`yt` 列には欠損値が存在します。\")\n",
    "else:\n",
    "    print(\"`yt` 列には欠損値は存在しません。\")"
   ]
  },
  {
   "cell_type": "markdown",
   "metadata": {},
   "source": [
    "## dfの整形"
   ]
  },
  {
   "cell_type": "code",
   "execution_count": 4,
   "metadata": {},
   "outputs": [
    {
     "data": {
      "text/html": [
       "<div>\n",
       "<style scoped>\n",
       "    .dataframe tbody tr th:only-of-type {\n",
       "        vertical-align: middle;\n",
       "    }\n",
       "\n",
       "    .dataframe tbody tr th {\n",
       "        vertical-align: top;\n",
       "    }\n",
       "\n",
       "    .dataframe thead th {\n",
       "        text-align: right;\n",
       "    }\n",
       "</style>\n",
       "<table border=\"1\" class=\"dataframe\">\n",
       "  <thead>\n",
       "    <tr style=\"text-align: right;\">\n",
       "      <th></th>\n",
       "      <th>yt</th>\n",
       "      <th>nan_flags</th>\n",
       "    </tr>\n",
       "  </thead>\n",
       "  <tbody>\n",
       "    <tr>\n",
       "      <th>0</th>\n",
       "      <td>1720</td>\n",
       "      <td>0</td>\n",
       "    </tr>\n",
       "    <tr>\n",
       "      <th>1</th>\n",
       "      <td>1702</td>\n",
       "      <td>0</td>\n",
       "    </tr>\n",
       "    <tr>\n",
       "      <th>2</th>\n",
       "      <td>1707</td>\n",
       "      <td>0</td>\n",
       "    </tr>\n",
       "    <tr>\n",
       "      <th>3</th>\n",
       "      <td>1708</td>\n",
       "      <td>0</td>\n",
       "    </tr>\n",
       "    <tr>\n",
       "      <th>4</th>\n",
       "      <td>1727</td>\n",
       "      <td>0</td>\n",
       "    </tr>\n",
       "    <tr>\n",
       "      <th>...</th>\n",
       "      <td>...</td>\n",
       "      <td>...</td>\n",
       "    </tr>\n",
       "    <tr>\n",
       "      <th>151</th>\n",
       "      <td>1829</td>\n",
       "      <td>0</td>\n",
       "    </tr>\n",
       "    <tr>\n",
       "      <th>152</th>\n",
       "      <td>1835</td>\n",
       "      <td>0</td>\n",
       "    </tr>\n",
       "    <tr>\n",
       "      <th>153</th>\n",
       "      <td>1782</td>\n",
       "      <td>0</td>\n",
       "    </tr>\n",
       "    <tr>\n",
       "      <th>154</th>\n",
       "      <td>1736</td>\n",
       "      <td>0</td>\n",
       "    </tr>\n",
       "    <tr>\n",
       "      <th>155</th>\n",
       "      <td>1706</td>\n",
       "      <td>0</td>\n",
       "    </tr>\n",
       "  </tbody>\n",
       "</table>\n",
       "<p>156 rows × 2 columns</p>\n",
       "</div>"
      ],
      "text/plain": [
       "       yt  nan_flags\n",
       "0    1720          0\n",
       "1    1702          0\n",
       "2    1707          0\n",
       "3    1708          0\n",
       "4    1727          0\n",
       "..    ...        ...\n",
       "151  1829          0\n",
       "152  1835          0\n",
       "153  1782          0\n",
       "154  1736          0\n",
       "155  1706          0\n",
       "\n",
       "[156 rows x 2 columns]"
      ]
     },
     "execution_count": 4,
     "metadata": {},
     "output_type": "execute_result"
    }
   ],
   "source": [
    "df['nan_flags'] = 0\n",
    "\n",
    "df"
   ]
  },
  {
   "cell_type": "markdown",
   "metadata": {},
   "source": [
    "## dfの各列をseriesに変換"
   ]
  },
  {
   "cell_type": "code",
   "execution_count": 5,
   "metadata": {},
   "outputs": [],
   "source": [
    "series_y = df['yt']\n",
    "series_nan_flags = df['nan_flags']"
   ]
  },
  {
   "cell_type": "code",
   "execution_count": 6,
   "metadata": {},
   "outputs": [
    {
     "data": {
      "text/plain": [
       "0      1720\n",
       "1      1702\n",
       "2      1707\n",
       "3      1708\n",
       "4      1727\n",
       "       ... \n",
       "151    1829\n",
       "152    1835\n",
       "153    1782\n",
       "154    1736\n",
       "155    1706\n",
       "Name: yt, Length: 156, dtype: int64"
      ]
     },
     "execution_count": 6,
     "metadata": {},
     "output_type": "execute_result"
    }
   ],
   "source": [
    "series_y"
   ]
  },
  {
   "cell_type": "code",
   "execution_count": 7,
   "metadata": {},
   "outputs": [
    {
     "data": {
      "text/plain": [
       "0      0\n",
       "1      0\n",
       "2      0\n",
       "3      0\n",
       "4      0\n",
       "      ..\n",
       "151    0\n",
       "152    0\n",
       "153    0\n",
       "154    0\n",
       "155    0\n",
       "Name: nan_flags, Length: 156, dtype: int64"
      ]
     },
     "execution_count": 7,
     "metadata": {},
     "output_type": "execute_result"
    }
   ],
   "source": [
    "series_nan_flags"
   ]
  },
  {
   "cell_type": "markdown",
   "metadata": {},
   "source": [
    "# 対数尤度の計算"
   ]
  },
  {
   "cell_type": "code",
   "execution_count": null,
   "metadata": {},
   "outputs": [],
   "source": [
    "import numpy as np"
   ]
  },
  {
   "cell_type": "code",
   "execution_count": 43,
   "metadata": {},
   "outputs": [],
   "source": [
    "def KF_func(t, series_y, F, G, Q, H, R, I, x_t_1_t_1, V_t_1_t_1, series_nan_flags, sta, end, end_pred):\n",
    "\n",
    "    # F_t, G_t, Q_t, H_t, R_t の定義(時刻tについての行列)\n",
    "    F_t = F.copy()\n",
    "    G_t = G.copy()\n",
    "    Q_t = Q.copy()\n",
    "    H_t = H.copy()\n",
    "    R_t = R.copy()\n",
    "\n",
    "    # 1期先予測\n",
    "    x_t_t_1 = F_t @ x_t_1_t_1\n",
    "    V_t_t_1 = F_t @ V_t_1_t_1 @ F_t.T + G_t @ Q_t @ G_t.T\n",
    "\n",
    "    # フィルタ\n",
    "    ## 欠損値なし\n",
    "    if series_nan_flags[t] == 0:\n",
    "        d_t_t_1 = H_t @ V_t_t_1 @ H_t.T + R_t  # 対数尤度の計算で使用される\n",
    "        K_t = V_t_t_1 @ H_t.T @ np.linalg.inv(d_t_t_1)\n",
    "        x_t_t = x_t_t_1 + K_t @ ((series_y[t] - series_y[sta:end].mean()) - H_t @ x_t_t_1)\n",
    "        V_t_t = (I - K_t @ H_t) @ V_t_t_1\n",
    "    ## 欠損値あり\n",
    "    else:\n",
    "        d_t_t_1 = None  # 対数尤度の計算で使用される（欠損値がある場合についてはスキップしなければならない）\n",
    "        K_t = None\n",
    "        x_t_t = x_t_t_1\n",
    "        V_t_t = V_t_t_1\n",
    "    ## 予測誤差の算出(予測時のみ→d_t_j_t ** (1/2)、それ以外はNoneを返す)\n",
    "    if end <= t < end_pred:\n",
    "        d_t_j_t = H_t @ V_t_t_1 @ H_t.T + R_t\n",
    "        root_d_t_j_t = d_t_j_t ** (1/2)\n",
    "    else:\n",
    "        d_t_j_t = None\n",
    "        root_d_t_j_t = None\n",
    "\n",
    "    # 予測値yの算出\n",
    "    ## y_t_t_1\n",
    "    y_t_t_1 = H_t @ x_t_t_1 + series_y[sta:end].mean()\n",
    "\n",
    "    ## y_t_t\n",
    "    y_t_t = H_t @ x_t_t + series_y[sta:end].mean()\n",
    "\n",
    "    return x_t_t_1, V_t_t_1, d_t_t_1, K_t, x_t_t, V_t_t, y_t_t_1, y_t_t, root_d_t_j_t"
   ]
  },
  {
   "cell_type": "code",
   "execution_count": null,
   "metadata": {},
   "outputs": [],
   "source": [
    "def loglike_func(series_y, series_nan_flags):\n",
    "    # 行列の定義(F, G, Q, H, I)\n",
    "    ##  F：推移行列(15 * 15)\n",
    "    F = np.zeros([15, 15])\n",
    "    F[0, :] = [\n",
    "        1.13164633, -0.13384263, -0.25397419, 0.02039985,0.03500777,\n",
    "        0.05990097, -0.17683803, 0.08439510, 0.10236195, -0.12517702,\n",
    "        0.10852823, 0.64089953, -0.74428281, 0.04803834, 0.15332373\n",
    "        ]\n",
    "    for i in range(1, 15):\n",
    "        F[i, i - 1] = 1\n",
    "\n",
    "    ## G：(15 * 1)\n",
    "    G = np.zeros([15, 1])\n",
    "    G[0, 0] = 1\n",
    "\n",
    "    ## Q：システムノイズの分散(1 * 1)\n",
    "    Q = np.identity(1) * 422.747668985944\n",
    "\n",
    "    ## H：観測行列(1 * 15)\n",
    "    H = np.zeros([1, 15])\n",
    "    H[0, 0] = 1\n",
    "\n",
    "    ## I：単位行列(15 * 15)\n",
    "    I = np.identity(15)\n",
    "\n",
    "    ## R：観測ノイズの分散共分散行列(1*1) → 尤度を計算する際には R = 1 で設定される。\n",
    "    R = np.identity(1)\n",
    "\n",
    "    # 初期値の定義\n",
    "    ## x_0_0：初期状態(15 * 1)\n",
    "    x_0_0 = np.zeros([15, 1])\n",
    "\n",
    "    ## V_0_0：初期分散共分散行列(15 * 15)\n",
    "    V_0_0 = np.identity(15)\n",
    "    V_0_0 = V_0_0 * 1e5\n",
    "\n",
    "    # staとendの定義\n",
    "    sta = 0\n",
    "    end = 120  ### 使用するデータ数を定義\n",
    "    end_pred = end\n",
    "\n",
    "    # カルマンフィルタの計算\n",
    "    ## トレーニングデータの取得\n",
    "    y_train = series_y[sta:end]\n",
    "    nan_flags_train = series_nan_flags[sta:end]\n",
    "\n",
    "    ## 予測データの作成\n",
    "    y_pred = pd.Series(series_y[end - 1], index = range(end, end_pred))\n",
    "    nan_flags_pred = pd.Series(1, index = range(end, end_pred))\n",
    "\n",
    "    ## トレーニングデータと予測データのマージ：カルマンフィルタの計算で使用される\n",
    "    y_t = pd.concat([y_train, y_pred])\n",
    "    nan_flags_t = pd.concat([nan_flags_train, nan_flags_pred])\n",
    "\n",
    "    ## t_max：データ長の定義\n",
    "    t_max = end_pred - sta\n",
    "\n",
    "    ## カルマンフィルタの結果を格納するリストの定義\n",
    "    list_x_t_t_1 =[]\n",
    "    list_V_t_t_1 = []\n",
    "    list_d_t_t_1_tilde = [] # R=1で計算しているため\n",
    "    list_K_t = []\n",
    "    list_x_t_t = []\n",
    "    list_V_t_t = []\n",
    "    list_y_t_t_1 = []\n",
    "    list_y_t_t = []\n",
    "    list_root_d_t_j_t = []\n",
    "\n",
    "    ## カルマンフィルタの計算\n",
    "    for t in range(t_max):\n",
    "        ### KF_funcの利用\n",
    "        if t == 0:\n",
    "            x_t_t_1, V_t_t_1, d_t_t_1_tilde, K_t, x_t_t, V_t_t, y_t_t_1, y_t_t, root_d_t_j_t = KF_func(t, y_t, F, G, Q, H, R, I, x_0_0, V_0_0, nan_flags_t, sta, end, end_pred)\n",
    "        else:\n",
    "            x_t_1_t_1 = list_x_t_t[t-1]\n",
    "            V_t_1_t_1 = list_V_t_t[t-1]\n",
    "            x_t_t_1, V_t_t_1, d_t_t_1_tilde, K_t, x_t_t, V_t_t, y_t_t_1, y_t_t, root_d_t_j_t = KF_func(t, y_t, F, G, Q, H, R, I, x_t_1_t_1, V_t_1_t_1, nan_flags_t, sta, end, end_pred)\n",
    "        ### リストに計算結果を挿入\n",
    "        list_x_t_t_1.append(x_t_t_1)\n",
    "        list_V_t_t_1.append(V_t_t_1)\n",
    "        list_d_t_t_1_tilde.append(d_t_t_1_tilde)\n",
    "        list_K_t.append(K_t)\n",
    "        list_x_t_t.append(x_t_t)\n",
    "        list_V_t_t.append(V_t_t)\n",
    "        list_y_t_t_1.append(y_t_t_1)\n",
    "        list_y_t_t.append(y_t_t)\n",
    "        list_root_d_t_j_t.append(root_d_t_j_t)\n",
    "\n",
    "    # 対数尤度の計算\n",
    "    ## sigma_hat_squared の計算\n",
    "    sigma_hat_squared = 0\n",
    "    T = 0\n",
    "\n",
    "    for t in range(t_max):\n",
    "        if list_d_t_t_1_tilde[t] is not None:\n",
    "            sigma_hat_squared += (y_t[t] - list_y_t_t_1[t][0]) ** 2 / list_d_t_t_1_tilde[t][0][0]\n",
    "            T += 1\n",
    "\n",
    "    sigma_hat_squared = sigma_hat_squared / T\n",
    "\n",
    "    ## 対数尤度の計算\n",
    "    ### sigma_ln_d_t_t_1_tilde の計算\n",
    "    sigma_ln_d_t_t_1_tilde = 0\n",
    "\n",
    "    for t in range(t_max):\n",
    "        if list_d_t_t_1_tilde[t] is not None:\n",
    "            sigma_ln_d_t_t_1_tilde += np.log(list_d_t_t_1_tilde[t][0][0])\n",
    "\n",
    "    ### l_theta_asterisk の計算\n",
    "    l_theta_asterisk = -0.5 * (T * np.log(2 * np.pi * sigma_hat_squared) + sigma_ln_d_t_t_1_tilde + T)\n",
    "\n",
    "    # 返り値の定義\n",
    "    return list_x_t_t_1, list_V_t_t_1, list_d_t_t_1_tilde, list_K_t, list_x_t_t, list_V_t_t, list_y_t_t_1, list_y_t_t, list_root_d_t_j_t, F, G, Q, H, I, R, x_0_0, V_0_0, sta, end, end_pred, l_theta_asterisk"
   ]
  },
  {
   "cell_type": "code",
   "execution_count": 106,
   "metadata": {},
   "outputs": [],
   "source": [
    "list_x_t_t_1, list_V_t_t_1, list_d_t_t_1_tilde, list_K_t, list_x_t_t, list_V_t_t, list_y_t_t_1, list_y_t_t, list_root_d_t_j_t, F, G, Q, H, I, R, x_0_0, V_0_0, sta, end, end_pred, l_theta_asterisk = loglike_func(series_y, series_nan_flags)"
   ]
  },
  {
   "cell_type": "code",
   "execution_count": null,
   "metadata": {},
   "outputs": [
    {
     "data": {
      "text/plain": [
       "array([-516.98515652])"
      ]
     },
     "execution_count": 107,
     "metadata": {},
     "output_type": "execute_result"
    }
   ],
   "source": [
    "l_theta_asterisk  # 対数尤度であり、最大を取るθ*を求めることが目的"
   ]
  },
  {
   "cell_type": "markdown",
   "metadata": {},
   "source": [
    "## 結果の表示"
   ]
  },
  {
   "cell_type": "code",
   "execution_count": 109,
   "metadata": {},
   "outputs": [
    {
     "name": "stdout",
     "output_type": "stream",
     "text": [
      "対数尤度： -516.9851565176928\n"
     ]
    }
   ],
   "source": [
    "print(\"対数尤度：\", float(l_theta_asterisk[0]))"
   ]
  }
 ],
 "metadata": {
  "kernelspec": {
   "display_name": "Python 3",
   "language": "python",
   "name": "python3"
  },
  "language_info": {
   "codemirror_mode": {
    "name": "ipython",
    "version": 3
   },
   "file_extension": ".py",
   "mimetype": "text/x-python",
   "name": "python",
   "nbconvert_exporter": "python",
   "pygments_lexer": "ipython3",
   "version": "3.12.9"
  }
 },
 "nbformat": 4,
 "nbformat_minor": 2
}
